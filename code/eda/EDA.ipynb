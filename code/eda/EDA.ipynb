{
 "cells": [
  {
   "cell_type": "code",
   "execution_count": 7,
   "metadata": {},
   "outputs": [],
   "source": [
    "import sys\n",
    "sys.path.append(\"../src/\")\n",
    "import utilities as utl\n",
    "import os\n",
    "import numpy as np\n",
    "import pandas as pd\n",
    "import time\n",
    "import tqdm\n",
    "import matplotlib.pyplot as plt"
   ]
  },
  {
   "cell_type": "code",
   "execution_count": 8,
   "metadata": {},
   "outputs": [
    {
     "name": "stdout",
     "output_type": "stream",
     "text": [
      "loaded bbchealth.txt    \n",
      "loaded cbchealth.txt    \n",
      "loaded cnnhealth.txt    \n",
      "loaded everydayhealth.txt    \n",
      "loaded foxnewshealth.txt    \n",
      "loaded gdnhealthcare.txt    \n",
      "loaded goodhealth.txt    \n",
      "loaded KaiserHealthNews.txt    \n",
      "loaded latimeshealth.txt    \n",
      "loaded msnhealthnews.txt    \n",
      "loaded NBChealth.txt    \n",
      "loaded nprhealth.txt    \n",
      "loaded nytimeshealth.txt    \n",
      "loaded reuters_health.txt    \n",
      "loaded usnewshealth.txt    \n",
      "loaded wsjhealth.txt    \n"
     ]
    }
   ],
   "source": [
    "data = utl.load_data()"
   ]
  },
  {
   "cell_type": "code",
   "execution_count": null,
   "metadata": {},
   "outputs": [],
   "source": []
  }
 ],
 "metadata": {
  "kernelspec": {
   "display_name": "Python 3",
   "language": "python",
   "name": "python3"
  },
  "language_info": {
   "codemirror_mode": {
    "name": "ipython",
    "version": 3
   },
   "file_extension": ".py",
   "mimetype": "text/x-python",
   "name": "python",
   "nbconvert_exporter": "python",
   "pygments_lexer": "ipython3",
   "version": "3.7.1"
  }
 },
 "nbformat": 4,
 "nbformat_minor": 2
}
